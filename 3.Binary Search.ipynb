{
 "cells": [
  {
   "cell_type": "markdown",
   "metadata": {},
   "source": [
    "Imagine you and I are playing a game. You have to guess a number between 1 and 100, and after each guess I'll tell you whether the answer is higher or lower than your guess.\n",
    "\n",
    "Perhaps your strategy is to start at 1. If 1 isn't the answer, you guess 2, then 3, and so on. This strategy resembles the linear search. However, since I'm giving you helpful hints, I'll tell you that a linear search is a naive approach to this game."
   ]
  },
  {
   "cell_type": "markdown",
   "metadata": {},
   "source": [
    "Instead, imagine guessing 50 first. I tell you the answer is higher. Suddenly, you've removed half of the original possibilities for consideration. You then guess 75, and I tell you the answer is lower. In only two guesses, you've eliminated 3/4 of the possibilities, and you now know that the answer lies between 50 and 75. That's a significant reduction, and your strategy is very efficient.\n",
    "\n",
    "This is the strategy a **binary search** uses. A binary search can help us find an item in a list efficiently if we know the list is ordered. We can check the middle element of the list, compare it to the item we're looking for, and continue narrowing our search in this manner."
   ]
  },
  {
   "cell_type": "markdown",
   "metadata": {},
   "source": [
    "So if binary search is more efficient than linear search, why ever bother with linear search at all?\n",
    "\n",
    "The answer is that we can only perform a binary search on ordered data. Recall that in our game, the key to our strategy was that we knew exactly how our guess compared to the correct number. We only knew this because there was an order to the \"data.\"\n",
    "\n",
    "To order data, we must be able to compare two elements and determine which is greater, or if they're equal. We can compare two strings the same way we compare integers. For instance, \"A\" is less than \"Z\", and \"A\" < \"Z\" would evaluate to True\n",
    "\n",
    "Next, we'll be searching a data set for the names of specific athletes who played in the NBA in 2012. The data set is in alphabetical order by last name, then first name. This a problem, because the data is ordered alphabetically by last name, but the first name is the first thing that appears in each row. As a result, we can't directly compare the names in their current, raw format. Instead, we'll need to format them as last_name, first_name.\n",
    "\n",
    "Before moving on, be sure we understand why reformatting the names is important, and why it will allow us to compare names properly.\n",
    "\n",
    "Let's start implementing a binary search on our list of NBA players."
   ]
  },
  {
   "cell_type": "code",
   "execution_count": 7,
   "metadata": {},
   "outputs": [],
   "source": [
    "from csv import reader\n",
    "import math\n",
    "\n",
    "nba = list(reader(open(\"nba_2013.csv\")))"
   ]
  },
  {
   "cell_type": "code",
   "execution_count": 5,
   "metadata": {},
   "outputs": [],
   "source": [
    "# A function to extract a player's last name\n",
    "def format_name(name):\n",
    "    return name.split(\" \")[1] + \", \" + name.split(\" \")[0]"
   ]
  },
  {
   "cell_type": "code",
   "execution_count": 6,
   "metadata": {},
   "outputs": [],
   "source": [
    "length = len(nba)"
   ]
  },
  {
   "cell_type": "code",
   "execution_count": 2,
   "metadata": {},
   "outputs": [],
   "source": [
    "def player_age(name):\n",
    "    name = format_name(name)\n",
    "    \n",
    "    first_guess_index = math.floor(length/2) # start guess from the middle of the list\n",
    "    first_guess = format_name(nba[first_guess_index][0])\n",
    "    if name < first_guess:\n",
    "        return \"earlier\"\n",
    "    elif name > first_guess:\n",
    "        return \"later\"\n",
    "    else:\n",
    "        return \"found\""
   ]
  },
  {
   "cell_type": "code",
   "execution_count": 8,
   "metadata": {},
   "outputs": [],
   "source": [
    "johnson_odom_age = player_age(\"Darius Johnson-Odom\")\n",
    "young_age = player_age(\"Nick Young\")\n",
    "adrien_age = player_age(\"Jeff Adrien\") "
   ]
  },
  {
   "cell_type": "code",
   "execution_count": 9,
   "metadata": {},
   "outputs": [
    {
     "name": "stdout",
     "output_type": "stream",
     "text": [
      "found\n",
      "later\n",
      "earlier\n"
     ]
    }
   ],
   "source": [
    "print(johnson_odom_age)\n",
    "print(young_age)\n",
    "print(adrien_age)"
   ]
  },
  {
   "cell_type": "markdown",
   "metadata": {},
   "source": [
    "We've found our first guess and figured out where to keep looking. The next step is to continue our binary search.\n",
    "\n",
    "Let's imagine a round of our game from before. You guess 50, and I tell you the answer is higher. Now what do you do? You guess 75 - but how did you calculate that value? This is the step we'll focus on in part two of our implementation.\n",
    "\n",
    "We can calculate the index of the next split in several ways. Whichever method we use, we must keep track of the upper and lower bounds of our search. At the beginning of our game, the lower bound is 1, and the upper bound is 100. After I tell you the answer is greater than 50, the lower bound becomes 51 while the upper bound remains 100.\n",
    "\n",
    "The bounds will look slightly different in our binary search implementation, but only because the data set's index starts at 0 instead of 1. It's important to note that our bounds are inclusive."
   ]
  },
  {
   "cell_type": "code",
   "execution_count": 15,
   "metadata": {},
   "outputs": [],
   "source": [
    "def player_age(name):\n",
    "    # We need to format our name appropriately for successful comparison\n",
    "    name = format_name(name)\n",
    "    upper_bound = length - 1\n",
    "    lower_bound = 0\n",
    "    first_guess_index = math.floor(length/2)\n",
    "    first_guess = format_name(nba[first_guess_index][0])\n",
    "    if name < first_guess:\n",
    "        upper_bound = first_guess_index - 1\n",
    "    elif name > first_guess:\n",
    "        lower_bound = first_guess_index + 1\n",
    "    else:\n",
    "        return first_guess\n",
    "    second_guess_index = math.floor((lower_bound + upper_bound) / 2)\n",
    "    second_guess = format_name(nba[second_guess_index][0])\n",
    "    return second_guess\n",
    "    \n",
    "\n",
    "gasol_age = player_age(\"Pau Gasol\")\n",
    "pierce_age = player_age(\"Paul Pierce\") "
   ]
  },
  {
   "cell_type": "markdown",
   "metadata": {},
   "source": [
    "We've implemented a binary search function that runs for two iterations. It guesses twice, but if it doesn't find the answer in those two guesses, it gives up. This isn't robust, and we shouldn't stop until we've found our answer.\n",
    "\n",
    "We've also seen that the guessing code is very repetitive. After each guess, we check whether it's correct, adjust our bounds as needed, and then guess again. This is precisely the logic we need, and we can run that logic over and over again. Next, we'll translate it into a loop.\n",
    "\n",
    "A **while loop** is perfect for this algorithm. It executes code as long as a condition is met."
   ]
  },
  {
   "cell_type": "code",
   "execution_count": 18,
   "metadata": {},
   "outputs": [
    {
     "name": "stdout",
     "output_type": "stream",
     "text": [
      "10\n",
      "9\n",
      "8\n",
      "7\n",
      "6\n",
      "5\n",
      "4\n",
      "3\n",
      "2\n",
      "1\n",
      "blastoff!\n"
     ]
    }
   ],
   "source": [
    "count = 10\n",
    "while count != 0:\n",
    "    print(count)\n",
    "    count = count - 1\n",
    "print(\"blastoff!\")"
   ]
  },
  {
   "cell_type": "markdown",
   "metadata": {},
   "source": [
    "The while loop above counts down from 10, and then prints \"blastoff!\". We'll use a while loop to keep guessing until we've found the NBA player we're searching for."
   ]
  },
  {
   "cell_type": "code",
   "execution_count": 19,
   "metadata": {},
   "outputs": [],
   "source": [
    "def player_age(name):\n",
    "    name = format_name(name)\n",
    "    upper_bound = length - 1\n",
    "    lower_bound = 0\n",
    "    index = math.floor((lower_bound + upper_bound) / 2)\n",
    "    guess = format_name(nba[index][0])\n",
    "    while name != guess:\n",
    "        if name < guess:\n",
    "            upper_bound = index - 1\n",
    "        else:\n",
    "            lower_bound = index + 1\n",
    "        index = math.floor((lower_bound + upper_bound) / 2)\n",
    "        guess = format_name(nba[index][0])\n",
    "    return \"found\"\n",
    "    \n",
    "carmelo_age = player_age(\"Carmelo Anthony\") "
   ]
  },
  {
   "cell_type": "code",
   "execution_count": 20,
   "metadata": {},
   "outputs": [
    {
     "name": "stdout",
     "output_type": "stream",
     "text": [
      "found\n"
     ]
    }
   ],
   "source": [
    "print(carmelo_age)"
   ]
  },
  {
   "cell_type": "markdown",
   "metadata": {},
   "source": [
    "We're almost finished implementing our binary search. We still have to retrieve the player's age if we find him, and return -1 if we don't.\n",
    "\n",
    "We should continue to search until we find the player, or until our list of possible answers is depleted. If we deplete all possible answers, the final step of our search, when upper_bound is equal to lower_bound (and also equal to index), will result in either upper_bound being decremented, or lower_bound being incremented. When this happens, lower_bound will be above upper_bound. We can easily check for this in our loop. It's very important to understand this nuance of our algorithm in order to take advantage of it."
   ]
  },
  {
   "cell_type": "code",
   "execution_count": 21,
   "metadata": {},
   "outputs": [],
   "source": [
    "def player_age(name):\n",
    "    name = format_name(name)\n",
    "    upper_bound = length - 1\n",
    "    lower_bound = 0\n",
    "    index = math.floor((upper_bound + lower_bound) / 2)\n",
    "    guess = format_name(nba[index][0])\n",
    "    while name != guess and upper_bound >= lower_bound:\n",
    "        if name < guess:\n",
    "            upper_bound = index - 1\n",
    "        else:\n",
    "            lower_bound = index + 1\n",
    "        index = math.floor((lower_bound + upper_bound) / 2)\n",
    "        guess = format_name(nba[index][0])\n",
    "    if name == guess:\n",
    "        return nba[index][2]\n",
    "    else:\n",
    "        return -1\n",
    "    \n",
    "curry_age = player_age(\"Stephen Curry\")\n",
    "griffin_age = player_age(\"Blake Griffin\")\n",
    "jordan_age = player_age(\"Michael Jordan\")"
   ]
  },
  {
   "cell_type": "code",
   "execution_count": 22,
   "metadata": {},
   "outputs": [
    {
     "name": "stdout",
     "output_type": "stream",
     "text": [
      "25\n",
      "24\n",
      "-1\n"
     ]
    }
   ],
   "source": [
    "print(curry_age)\n",
    "print(griffin_age)\n",
    "print(jordan_age)"
   ]
  },
  {
   "attachments": {
    "image.png": {
     "image/png": "[encoded data removed]"
    }
   },
   "cell_type": "markdown",
   "metadata": {},
   "source": [
    "Now let's analyze the complexity of binary search.\n",
    "\n",
    "We've established that every iteration of the algorithm reduces the size of our problem by a factor of two. Because the algorithm's time complexity depends on the input size, we can conclude that it's not constant time. It's not linear time either, though, because it's more efficient than a linear search.\n",
    "\n",
    "It turns out that binary search runs in logarithmic time, which we denote as O(log(n)). Logarithms are the mathematical counterpart to exponents. It makes sense that an algorithm that cuts its problem size in half (or by any fraction) with each iteration will be logarithmic. Here's a graph of constant, linear, and logarithmic time:\n",
    "\n",
    "![image.png](attachment:image.png)\n",
    "\n",
    "The graph shows the runtimes of three algorithms with respect to input size. The constant time algorithm is green, linear time is red, and logarithmic time is blue. We can see that the logarithmic function grows more slowly than the linear function over the long run, but still more quickly than the constant function."
   ]
  },
  {
   "cell_type": "code",
   "execution_count": null,
   "metadata": {},
   "outputs": [],
   "source": []
  }
 ],
 "metadata": {
  "kernelspec": {
   "display_name": "Python 3",
   "language": "python",
   "name": "python3"
  },
  "language_info": {
   "codemirror_mode": {
    "name": "ipython",
    "version": 3
   },
   "file_extension": ".py",
   "mimetype": "text/x-python",
   "name": "python",
   "nbconvert_exporter": "python",
   "pygments_lexer": "ipython3",
   "version": "3.7.3"
  }
 },
 "nbformat": 4,
 "nbformat_minor": 2
}
