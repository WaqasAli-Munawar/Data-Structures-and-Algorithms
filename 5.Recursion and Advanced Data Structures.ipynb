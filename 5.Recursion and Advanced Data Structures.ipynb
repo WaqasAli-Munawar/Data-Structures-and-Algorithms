{
 "cells": [
  {
   "cell_type": "markdown",
   "metadata": {},
   "source": [
    "Recursion can be a difficult concept to grasp at first, but it's a very rewarding and fun tool once understand it. Recursion is a method of repeating code without using loops. It usually takes the form of a function that calls itself during its execution.\n",
    "\n",
    "The basic mechanism has given rise to many interesting algorithms. Recursive algorithms often seem lazy when we write them, and can appear magical when they work. It's important to understand recursion so we can think about problems in new ways and write satisfying code that performs logic succinctly."
   ]
  },
  {
   "cell_type": "markdown",
   "metadata": {},
   "source": [
    "The best way to understand recursion is through an example. One example is the factorial function that exists in mathematics.\n",
    "\n",
    "The last component we need to define for our recursive function is a \"base case\" that tells it when to stop; otherwise it will keep calling itself forever. In the case of our factorial function, we want to stop at 0, so we'll make that our base case.\n",
    "\n",
    "When we call factorial with 0 as its input, we want to simply return 1. This may seem a bit odd, but mathematically, 0! is defined as 1. We don't have to worry much about why this is; we'll just accept the definition and use it in our recursion. 1! still evaluates to 1 * (0!), which is 1.\n",
    "\n",
    "When our input isn't 0, we want to recursively call our function, performing whatever operations are necessary to execute our recursive algorithm properly."
   ]
  },
  {
   "cell_type": "code",
   "execution_count": 1,
   "metadata": {},
   "outputs": [],
   "source": [
    "def factorial(n):\n",
    "    if n == 0:\n",
    "        return 1\n",
    "    return n*factorial(n-1)"
   ]
  },
  {
   "cell_type": "code",
   "execution_count": 5,
   "metadata": {},
   "outputs": [
    {
     "data": {
      "text/plain": [
       "120"
      ]
     },
     "execution_count": 5,
     "metadata": {},
     "output_type": "execute_result"
    }
   ],
   "source": [
    "factorial(5)"
   ]
  },
  {
   "cell_type": "code",
   "execution_count": 6,
   "metadata": {},
   "outputs": [],
   "source": [
    "#iterative method\n",
    "\n",
    "def fnc(n):\n",
    "    a = 1\n",
    "    for i in range(1,n+1):\n",
    "        a *=i\n",
    "    return a\n",
    "    "
   ]
  },
  {
   "cell_type": "code",
   "execution_count": 10,
   "metadata": {},
   "outputs": [
    {
     "data": {
      "text/plain": [
       "120"
      ]
     },
     "execution_count": 10,
     "metadata": {},
     "output_type": "execute_result"
    }
   ],
   "source": [
    "fnc(5)"
   ]
  },
  {
   "cell_type": "markdown",
   "metadata": {},
   "source": [
    "The Fibonacci sequence is a famous series of numbers that starts out as follows:\n",
    "\n",
    "1, 1, 2, 3, 5, 8, 13, 21, 34, 55, ...\n",
    "\n",
    "Each number in the Fibonacci sequence is the sum of the previous two numbers. For instance, 34 in the above sequence is the sum of 13 and 21.\n",
    "\n",
    "The only exceptions are the first two numbers. Because the sequence is too short to calculate them, the first two numbers of the sequence are ones by definition. These two numbers are the base cases for the Fibonacci sequence."
   ]
  },
  {
   "cell_type": "code",
   "execution_count": 26,
   "metadata": {},
   "outputs": [],
   "source": [
    "def fib(n):\n",
    "    if n == 0 or n == 1:\n",
    "        return 1\n",
    "    return fib(n-1) + fib(n-2)"
   ]
  },
  {
   "cell_type": "code",
   "execution_count": 30,
   "metadata": {},
   "outputs": [
    {
     "data": {
      "text/plain": [
       "(1, 1, 2, 3, 5, 8, 13)"
      ]
     },
     "execution_count": 30,
     "metadata": {},
     "output_type": "execute_result"
    }
   ],
   "source": [
    "fib(0), fib(1), fib(2), fib(3), fib(4), fib(5), fib(6)"
   ]
  },
  {
   "cell_type": "code",
   "execution_count": null,
   "metadata": {},
   "outputs": [],
   "source": []
  }
 ],
 "metadata": {
  "kernelspec": {
   "display_name": "Python 3",
   "language": "python",
   "name": "python3"
  },
  "language_info": {
   "codemirror_mode": {
    "name": "ipython",
    "version": 3
   },
   "file_extension": ".py",
   "mimetype": "text/x-python",
   "name": "python",
   "nbconvert_exporter": "python",
   "pygments_lexer": "ipython3",
   "version": "3.7.3"
  }
 },
 "nbformat": 4,
 "nbformat_minor": 2
}
