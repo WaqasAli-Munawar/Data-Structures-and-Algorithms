{
 "cells": [
  {
   "attachments": {
    "image.png": {
     "image/png": "[encoded data removed]"
    }
   },
   "cell_type": "markdown",
   "metadata": {},
   "source": [
    "In this project, we'll learn how computers store values in memory.\n",
    "\n",
    "Our data set contains excerpts from CIA memos that detail covert activities. It includes the year the statement was made, then an excerpt from the memo.\n",
    "\n",
    "![image.png](attachment:image.png)"
   ]
  },
  {
   "cell_type": "markdown",
   "metadata": {},
   "source": [
    "The file consists of one long string. To use it effectively, we'd need to parse it and convert it into rows and columns. We've covered strings extensively so far, but we haven't covered how a computer stores them.\n",
    "\n",
    "Computers store files on hard drives. A hard drive allows us to save data, turn the computer off, and then access the data again later. The tech community commonly refers to hard drives as magnetic storage, because they store data on magnetic strips.\n",
    "\n",
    "Magnetic strips can only contain a series of two values - up and down. Our entire CSV file saves to a hard drive the same way. We can't directly write strings such as the letter a to a hard disk; we need to convert them to a series of magnetic ups and downs first.\n",
    "\n",
    "We can do this with an encoding system called binary. With binary, the only valid numbers are 0 and 1. This constraint makes it easy to store binary values on a hard disk."
   ]
  },
  {
   "cell_type": "markdown",
   "metadata": {},
   "source": [
    "Computers can't store values like strings or integers directly. Instead, they store information in binary, where the only valid numbers are 0 and 1. This system makes storing data on devices like hard drives possible.\n",
    "\n",
    "However, we normally count in \"base 10.\" We call this system base 10 because there are 10 possible digits - 0 through 9. Binary is base two, because there are only two possible digits - 0 and 1.\n",
    "\n",
    "To work with binary in Python, we need to enter it as a string. If we enter something like b = 10 directly, for example, Python will assume that it's a base 10 integer (rather than binary). Instead, we would need to put quotes around it to enter it as a string before working with it further."
   ]
  },
  {
   "cell_type": "code",
   "execution_count": 1,
   "metadata": {},
   "outputs": [
    {
     "name": "stdout",
     "output_type": "stream",
     "text": [
      "4\n"
     ]
    }
   ],
   "source": [
    "# Convert the binary number \"100\" to a base 10 integer\n",
    "\n",
    "b = \"100\"\n",
    "\n",
    "# Now, we can convert b from a string to a binary number with the int function. \n",
    "# We'll need to set the optional second argument, base, to 2 (binary is base two).\n",
    "\n",
    "b_10 = int(b,2)\n",
    "print(b_10)"
   ]
  },
  {
   "cell_type": "code",
   "execution_count": 2,
   "metadata": {},
   "outputs": [],
   "source": [
    "def binary_add(a, b):\n",
    "    return bin(int(a, 2) + int(b, 2))[2:]"
   ]
  },
  {
   "cell_type": "code",
   "execution_count": 3,
   "metadata": {},
   "outputs": [
    {
     "data": {
      "text/plain": [
       "'10'"
      ]
     },
     "execution_count": 3,
     "metadata": {},
     "output_type": "execute_result"
    }
   ],
   "source": [
    "c = binary_add(\"1\", \"1\")\n",
    "c"
   ]
  },
  {
   "cell_type": "code",
   "execution_count": 4,
   "metadata": {},
   "outputs": [
    {
     "data": {
      "text/plain": [
       "'100'"
      ]
     },
     "execution_count": 4,
     "metadata": {},
     "output_type": "execute_result"
    }
   ],
   "source": [
    "# Add \"10\" (base 2) to c.\n",
    "c = binary_add(c,\"10\")\n",
    "c"
   ]
  },
  {
   "cell_type": "code",
   "execution_count": 5,
   "metadata": {},
   "outputs": [
    {
     "name": "stdout",
     "output_type": "stream",
     "text": [
      "True\n",
      "True\n",
      "True\n",
      "True\n",
      "True\n",
      "True\n",
      "True\n",
      "True\n",
      "True\n",
      "True\n"
     ]
    }
   ],
   "source": [
    "a = 0 # base 10\n",
    "b = \"0\" # base 2\n",
    "\n",
    "# Loop 10 times\n",
    "for i in range(0, 10):\n",
    "    # Add 1 to each\n",
    "    a += 1\n",
    "    b = binary_add(b, \"1\")\n",
    "\n",
    "    # Check if they are equal\n",
    "    print(int(b, 2) == a)"
   ]
  },
  {
   "cell_type": "markdown",
   "metadata": {},
   "source": [
    "The cool thing here is that a and b are always equal if we add the same amount to both.\n",
    "This is because base 2 and base 10 are just ways to write numbers.\n",
    "Counting 100 apples in base 2 or base 10 will always give us an equivalent result - we just have to convert between them.\n",
    "We can represent any number in binary; we just need to use more digits than we would in base 10."
   ]
  },
  {
   "cell_type": "markdown",
   "metadata": {},
   "source": [
    "Computers store strings in binary, just like they do with integers. First, they split them into single characters, then convert those characters to integers. Finally, they convert those integers to binary and store them.\n",
    "\n",
    "We'll look at simple characters first - the so called ASCII characters. These include all upper and lowercase English letters, digits, and several punctuation symbols.\n",
    "\n",
    "\n",
    "We can use the ord() function to get the integer for an ASCII character.Then, we use the bin() function to convert to binary.\n",
    "The bin function adds \"0b\" to the beginning of a string to indicate that it contains binary values.\n",
    "\n",
    " ÿ is the \"last\" ASCII character; it has the highest integer value of any ASCII character. This is because 255 is the highest value we can represent with eight binary digits."
   ]
  },
  {
   "cell_type": "code",
   "execution_count": 6,
   "metadata": {},
   "outputs": [
    {
     "data": {
      "text/plain": [
       "255"
      ]
     },
     "execution_count": 6,
     "metadata": {},
     "output_type": "execute_result"
    }
   ],
   "source": [
    "base_10 = ord('ÿ')\n",
    "base_10"
   ]
  },
  {
   "cell_type": "code",
   "execution_count": 7,
   "metadata": {},
   "outputs": [
    {
     "data": {
      "text/plain": [
       "'0b11111111'"
      ]
     },
     "execution_count": 7,
     "metadata": {},
     "output_type": "execute_result"
    }
   ],
   "source": [
    "binary = bin(base_10)\n",
    "binary"
   ]
  },
  {
   "cell_type": "markdown",
   "metadata": {},
   "source": [
    "Why is this?  \n",
    "\n",
    "Because a single binary digit is called a bit, and computers store values in sequences of eight bits (i.e., a byte).\n",
    "We might be more familiar with kilobytes or megabytes. A kilobyte is 1000 bytes, and a megabyte is 1000 kilobytes.\n",
    "There are 256 different ASCII symbols, because the largest amount of storage any single ASCII character can take up is one byte."
   ]
  },
  {
   "cell_type": "code",
   "execution_count": 14,
   "metadata": {},
   "outputs": [],
   "source": [
    "# for i in range(0,255):\n",
    "#     print(chr(i))"
   ]
  },
  {
   "cell_type": "markdown",
   "metadata": {},
   "source": [
    "We might be wondering what happened to all of the other characters and alphabets in the world. ASCII can't handle them, because it only supports 255 characters. The tech community realized it needed a new standard, and created Unicode.\n",
    "\n",
    "Unicode assigns \"code points\" to characters. In Python, code points look like this:\n",
    "\n",
    "\"\\u3232\"\n",
    "\n",
    "We can use an encoding system to convert these code points to binary integers. The most common encoding system for Unicode is UTF-8. This encoding tells a computer which code points are associated with which integers.\n",
    "\n",
    "UTF-8 can encode values that are longer that one byte, which enables it to store all Unicode characters. It encodes characters using a variable number of bytes, which means that it also supports regular ASCII characters (which are one byte each)."
   ]
  },
  {
   "cell_type": "code",
   "execution_count": 15,
   "metadata": {},
   "outputs": [
    {
     "name": "stdout",
     "output_type": "stream",
     "text": [
      "⟶\n",
      "10230\n"
     ]
    }
   ],
   "source": [
    "# We can initialize Unicode code points (the value for this code point is \\u27F6).\n",
    "code_point = \"⟶\"\n",
    "\n",
    "# This particular code point maps to a right arrow character.\n",
    "print(code_point)\n",
    "print(ord(code_point))"
   ]
  },
  {
   "cell_type": "code",
   "execution_count": 16,
   "metadata": {},
   "outputs": [
    {
     "name": "stdout",
     "output_type": "stream",
     "text": [
      "0b10011111110110\n"
     ]
    }
   ],
   "source": [
    "# As you can see, this takes up a lot more than 1 byte.\n",
    "print(bin(ord(code_point)))"
   ]
  },
  {
   "cell_type": "markdown",
   "metadata": {},
   "source": [
    "ASCII is a subset of Unicode. Unicode implements all of the ASCII characters, as well as the additional characters that code points allow.\n",
    "\n",
    "This lets us create Unicode strings that combine both ASCII and Unicode characters.\n",
    "\n",
    "By default, Python 3 uses Unicode for all strings, and encodes them with UTF-8. That means we can enter the Unicode code points or the actual characters."
   ]
  },
  {
   "cell_type": "markdown",
   "metadata": {},
   "source": [
    "The \\u prefix means \"the next four digits are a Unicode code point\"\n",
    "\n",
    "Python includes a data type called \"bytes.\" It's similar to a string, except that it contains encoded bytes values. When we create an object with a bytes type from a string, we specify an encoding system (usually UTF-8). Then, we can use the .encode() method to encode the string into bytes."
   ]
  },
  {
   "cell_type": "code",
   "execution_count": 17,
   "metadata": {},
   "outputs": [
    {
     "name": "stdout",
     "output_type": "stream",
     "text": [
      "<class 'str'>\n"
     ]
    }
   ],
   "source": [
    "# We can make a string with some Unicode values\n",
    "superman = \"Clark Kent␦\"\n",
    "print(type(superman))"
   ]
  },
  {
   "cell_type": "code",
   "execution_count": 18,
   "metadata": {},
   "outputs": [
    {
     "data": {
      "text/plain": [
       "b'Clark Kent\\xe2\\x90\\xa6'"
      ]
     },
     "execution_count": 18,
     "metadata": {},
     "output_type": "execute_result"
    }
   ],
   "source": [
    "# This tells Python to encode the string superman as Unicode using the UTF-8 encoding system\n",
    "# We end up with a sequence of bytes instead of a string\n",
    "superman_bytes = \"Clark Kent␦\".encode(\"utf-8\")\n",
    "superman_bytes"
   ]
  },
  {
   "cell_type": "code",
   "execution_count": 19,
   "metadata": {},
   "outputs": [
    {
     "name": "stdout",
     "output_type": "stream",
     "text": [
      "<class 'bytes'>\n"
     ]
    }
   ],
   "source": [
    "print(type(superman_bytes))"
   ]
  },
  {
   "cell_type": "markdown",
   "metadata": {},
   "source": [
    "superman_bytes prints out as Clark Kent\\xe2\\x90\\xa6. Similar to the \\u prefix for a Unicode code point, \\x is the prefix for a hexadecimal character.\n",
    "\n",
    "Just like binary is base 2 and our normal counting system is base 10, hexadecimal is base 16. The valid digits in hexadecimal are 0-9 and A-F\n",
    "\n",
    "* A - 10\n",
    "* B - 11\n",
    "* C - 12\n",
    "* D - 13\n",
    "* E - 14\n",
    "* F - 15\n",
    "\n",
    "In hexadecimal, 9 + 1 equals A. We use hexadecimal because it represents a byte efficiently. Byte is eight bits, or eight binary digits. The highest value we can express in a byte is 11111111, or 255 in base 10. We can express the same value in two hexadecimal digits, FF.\n",
    "\n",
    "Programmers often use hexadecimal to display bytes instead of binary because it's more compact and easier to write out."
   ]
  },
  {
   "cell_type": "markdown",
   "metadata": {},
   "source": [
    "Using .encode() converted a sequence of code points into something that looked like \\xe2\\x90\\xa6. The three sections of this result (which the \\ character separates) represent three hexadecimal bytes. The \\x prefix means \"the next two digits are in hexadecimal.\"\n",
    "\n",
    "Two hexadecimal digits equal eight binary digits, because digits can have higher values in hexadecimal (base 16). For instance, \"F\" is 15 in hexadecimal, but 1111 is 15 in binary. Because it's shorter to display, and four binary digits always equal one hexadecimal digit, programs often use hexadecimal to print out values. This is purely for convenience."
   ]
  },
  {
   "cell_type": "code",
   "execution_count": 20,
   "metadata": {},
   "outputs": [
    {
     "name": "stdout",
     "output_type": "stream",
     "text": [
      "15\n",
      "10\n"
     ]
    }
   ],
   "source": [
    "# F is the highest single digit in hexadecimal (base 16)\n",
    "# Its value is 15 in base 10\n",
    "print(int(\"F\", 16))\n",
    "\n",
    "# A in base 16 has the value 10 in base 10\n",
    "print(int(\"A\", 16))"
   ]
  },
  {
   "cell_type": "code",
   "execution_count": 21,
   "metadata": {},
   "outputs": [],
   "source": [
    "def hexadecimal_add(a, b):\n",
    "    return hex(int(a, 16) + int(b, 16))[2:]"
   ]
  },
  {
   "cell_type": "code",
   "execution_count": 22,
   "metadata": {},
   "outputs": [],
   "source": [
    "# Add \"2\" to \"ea\" in hexadecimal, and assign the result to hex_ea.\n",
    "hex_ea = hexadecimal_add(\"2\", \"ea\")\n",
    "\n",
    "# Add \"e\" to \"f\" in hexadecimal, and assign the result to hex_ef.\n",
    "hex_ef = hexadecimal_add(\"e\", \"f\")\n"
   ]
  },
  {
   "cell_type": "markdown",
   "metadata": {},
   "source": [
    "We can convert hexadecimal to binary fairly easily. We can even use the ord() and bin() functions that helped us convert code points to binary."
   ]
  },
  {
   "cell_type": "code",
   "execution_count": 23,
   "metadata": {},
   "outputs": [],
   "source": [
    "binary_aa = bin(ord(\"\\xaa\"))\n",
    "binary_ab = bin(ord(\"\\xab\"))"
   ]
  },
  {
   "cell_type": "markdown",
   "metadata": {},
   "source": [
    "There's no encoding system associated with the bytes data type. That means if we have an object with that data type, Python won't know how to display the (encoded) code points in it. For this reason, we can't mix bytes objects and strings together."
   ]
  },
  {
   "cell_type": "code",
   "execution_count": 24,
   "metadata": {},
   "outputs": [
    {
     "name": "stdout",
     "output_type": "stream",
     "text": [
      "TypeError with replacement\n"
     ]
    }
   ],
   "source": [
    "hulk_bytes = \"Bruce Banner␦\".encode(\"utf-8\")\n",
    "\n",
    "# We can't mix strings and bytes\n",
    "# For instance, if we try to replace the Unicode ␦ character as a string, it won't work, because that value has been encoded to bytes\n",
    "try:\n",
    "    hulk_bytes.replace(\"Banner\", \"\")\n",
    "except Exception:\n",
    "    print(\"TypeError with replacement\")"
   ]
  },
  {
   "cell_type": "code",
   "execution_count": 25,
   "metadata": {},
   "outputs": [
    {
     "data": {
      "text/plain": [
       "b'Bruce '"
      ]
     },
     "execution_count": 25,
     "metadata": {},
     "output_type": "execute_result"
    }
   ],
   "source": [
    "# We can create objects of the bytes data type by putting a b in front of the quotation marks in a string\n",
    "hulk_bytes = b\"Bruce Banner\"\n",
    "# Now, instead of mixing strings and bytes, we can use the replace method with bytes objects instead\n",
    "hulk_bytes.replace(b\"Banner\", b\"\")"
   ]
  },
  {
   "cell_type": "code",
   "execution_count": 26,
   "metadata": {},
   "outputs": [
    {
     "name": "stdout",
     "output_type": "stream",
     "text": [
      "<class 'bytes'>\n"
     ]
    }
   ],
   "source": [
    "# Make a bytes object containing \"Thor\", and assign it to thor_bytes.\n",
    "thor_bytes = b\"Thor\"\n",
    "print(type(thor_bytes))"
   ]
  },
  {
   "cell_type": "markdown",
   "metadata": {},
   "source": [
    "Once we have a bytes object, we can decode it into a string using an encoding system. We use the .decode() method to do this."
   ]
  },
  {
   "cell_type": "code",
   "execution_count": 27,
   "metadata": {},
   "outputs": [
    {
     "name": "stdout",
     "output_type": "stream",
     "text": [
      "Who knows?\n",
      "<class 'str'>\n"
     ]
    }
   ],
   "source": [
    "aquaman_bytes = b\"Who knows?\"\n",
    "aquaman = aquaman_bytes.decode(\"utf-8\")\n",
    "print(aquaman)\n",
    "print(type(aquaman))"
   ]
  },
  {
   "cell_type": "code",
   "execution_count": 28,
   "metadata": {},
   "outputs": [],
   "source": [
    "import csv\n",
    "# When we open a file, we can specify the system used to encode it (in this case, UTF-8).\n",
    "f = open(\"sentences_cia.csv\", 'r', encoding=\"utf-8\")\n",
    "csvreader = csv.reader(f)\n",
    "sentences_cia = list(csvreader)"
   ]
  },
  {
   "cell_type": "markdown",
   "metadata": {},
   "source": [
    "The data contains several symbols and other Unicode characters"
   ]
  },
  {
   "cell_type": "code",
   "execution_count": 29,
   "metadata": {},
   "outputs": [
    {
     "name": "stdout",
     "output_type": "stream",
     "text": [
      "1997\n"
     ]
    }
   ],
   "source": [
    "# The data consists of two columns\n",
    "# The first column contains the year, and the second contains a sentence from a CIA report written in that year\n",
    "# Print the first column of the second row\n",
    "print(sentences_cia[1][0])"
   ]
  },
  {
   "cell_type": "markdown",
   "metadata": {},
   "source": [
    "Having a dataframe will make processing and analysis much simpler because we can use the .apply() method."
   ]
  },
  {
   "cell_type": "code",
   "execution_count": 30,
   "metadata": {},
   "outputs": [],
   "source": [
    "f = open(\"legislators.csv\", 'r', encoding=\"utf-8\")\n",
    "csvreader = csv.reader(f)\n",
    "legislators = list(csvreader)"
   ]
  },
  {
   "cell_type": "code",
   "execution_count": 31,
   "metadata": {},
   "outputs": [],
   "source": [
    "import pandas as pd\n",
    "\n",
    "legislators_df = pd.DataFrame(legislators)"
   ]
  },
  {
   "cell_type": "code",
   "execution_count": 32,
   "metadata": {},
   "outputs": [
    {
     "data": {
      "text/html": [
       "<div>\n",
       "<style scoped>\n",
       "    .dataframe tbody tr th:only-of-type {\n",
       "        vertical-align: middle;\n",
       "    }\n",
       "\n",
       "    .dataframe tbody tr th {\n",
       "        vertical-align: top;\n",
       "    }\n",
       "\n",
       "    .dataframe thead th {\n",
       "        text-align: right;\n",
       "    }\n",
       "</style>\n",
       "<table border=\"1\" class=\"dataframe\">\n",
       "  <thead>\n",
       "    <tr style=\"text-align: right;\">\n",
       "      <th></th>\n",
       "      <th>0</th>\n",
       "      <th>1</th>\n",
       "      <th>2</th>\n",
       "      <th>3</th>\n",
       "      <th>4</th>\n",
       "      <th>5</th>\n",
       "      <th>6</th>\n",
       "    </tr>\n",
       "  </thead>\n",
       "  <tbody>\n",
       "    <tr>\n",
       "      <th>0</th>\n",
       "      <td>last_name</td>\n",
       "      <td>first_name</td>\n",
       "      <td>birthday</td>\n",
       "      <td>gender</td>\n",
       "      <td>type</td>\n",
       "      <td>state</td>\n",
       "      <td>party</td>\n",
       "    </tr>\n",
       "    <tr>\n",
       "      <th>1</th>\n",
       "      <td>Bassett</td>\n",
       "      <td>Richard</td>\n",
       "      <td>1745-04-02</td>\n",
       "      <td>M</td>\n",
       "      <td>sen</td>\n",
       "      <td>DE</td>\n",
       "      <td>Anti-Administration</td>\n",
       "    </tr>\n",
       "    <tr>\n",
       "      <th>2</th>\n",
       "      <td>Bland</td>\n",
       "      <td>Theodorick</td>\n",
       "      <td>1742-03-21</td>\n",
       "      <td></td>\n",
       "      <td>rep</td>\n",
       "      <td>VA</td>\n",
       "      <td></td>\n",
       "    </tr>\n",
       "  </tbody>\n",
       "</table>\n",
       "</div>"
      ],
      "text/plain": [
       "           0           1           2       3     4      5                    6\n",
       "0  last_name  first_name    birthday  gender  type  state                party\n",
       "1    Bassett     Richard  1745-04-02       M   sen     DE  Anti-Administration\n",
       "2      Bland  Theodorick  1742-03-21           rep     VA                     "
      ]
     },
     "execution_count": 32,
     "metadata": {},
     "output_type": "execute_result"
    }
   ],
   "source": [
    "legislators_df.head(3)"
   ]
  },
  {
   "cell_type": "markdown",
   "metadata": {},
   "source": [
    "As we can see, the first row contains the headers, which we don't want (because they're not actually data)"
   ]
  },
  {
   "cell_type": "code",
   "execution_count": 33,
   "metadata": {},
   "outputs": [],
   "source": [
    "legislators_df = pd.DataFrame(legislators[1:], columns=legislators[0])"
   ]
  },
  {
   "cell_type": "code",
   "execution_count": 34,
   "metadata": {},
   "outputs": [],
   "source": [
    "sentences_cia = pd.DataFrame(sentences_cia[1:], columns = sentences_cia[0])"
   ]
  },
  {
   "cell_type": "markdown",
   "metadata": {},
   "source": [
    "Now that we've formatted our data nicely, we need to process the strings to count term occurences.\n",
    "\n",
    "First, though, we need to clean them up by removing extraneous symbols. We only really care about letters, digits, and spaces.\n",
    "\n",
    "Luckily, we can check the integer code of each character using ord() to see if it's a character we want to keep."
   ]
  },
  {
   "cell_type": "code",
   "execution_count": 35,
   "metadata": {},
   "outputs": [
    {
     "data": {
      "text/plain": [
       "'\"^^\\'\\'^ There was also CIA reporting in 1998 that KSM was \"very close\" to On June 12, 2001, it was reported that \"Khaled\" was actively recruiting people to travel outside Afghanistan, including to the United States where colleagues were reportedly already in the country to meet them, to carry out terrorist-related activities for UBL.'"
      ]
     },
     "execution_count": 35,
     "metadata": {},
     "output_type": "execute_result"
    }
   ],
   "source": [
    "# The integer codes for all the characters we want to keep\n",
    "good_characters = [48, 49, 50, 51, 52, 53, 54, 55, \n",
    "                   56, 57, 65, 66, 67, 68, 69, 70, 71,\n",
    "                   72, 73, 74, 75, 76, 77, 78, 79, 80, \n",
    "                   81, 82, 83, 84, 85, 86, 87, 88, 89,\n",
    "                   90, 97, 98, 99, 100, 101, 102, 103, \n",
    "                   104, 105, 106, 107, 108, 109, 110, 111,\n",
    "                   112, 113, 114, 115, 116, 117, 118, 119,\n",
    "                   120, 121, 122, 32]\n",
    "\n",
    "sentence_15 = sentences_cia[\"statement\"][14]\n",
    "sentence_15"
   ]
  },
  {
   "cell_type": "code",
   "execution_count": 36,
   "metadata": {},
   "outputs": [],
   "source": [
    "# Iterate over the characters in the sentence, and only take those whose integer representations are in good_characters\n",
    "# This will construct a list of single characters\n",
    "cleaned_sentence_15_list = [s for s in sentence_15 if ord(s) in good_characters]"
   ]
  },
  {
   "cell_type": "code",
   "execution_count": 37,
   "metadata": {},
   "outputs": [],
   "source": [
    "# Join the list together, separated by \"\" (no space), which creates a string again\n",
    "cleaned_sentence_15 = \"\".join(cleaned_sentence_15_list)"
   ]
  },
  {
   "cell_type": "code",
   "execution_count": 38,
   "metadata": {},
   "outputs": [
    {
     "data": {
      "text/plain": [
       "' There was also CIA reporting in 1998 that KSM was very close to On June 12 2001 it was reported that Khaled was actively recruiting people to travel outside Afghanistan including to the United States where colleagues were reportedly already in the country to meet them to carry out terroristrelated activities for UBL'"
      ]
     },
     "execution_count": 38,
     "metadata": {},
     "output_type": "execute_result"
    }
   ],
   "source": [
    "cleaned_sentence_15"
   ]
  },
  {
   "cell_type": "code",
   "execution_count": 39,
   "metadata": {},
   "outputs": [],
   "source": [
    "def clean_statement(df):\n",
    "    good_characters = [48, 49, 50, 51, 52, 53, 54, 55, 56, 57, \n",
    "                       65, 66, 67, 68, 69, 70, 71, 72, 73, 74,\n",
    "                       75, 76, 77, 78, 79, 80, 81, 82, 83, 84,\n",
    "                       85, 86, 87, 88, 89, 90, 97, 98, 99, 100,\n",
    "                       101, 102, 103, 104, 105, 106, 107, 108, 109,\n",
    "                       110, 111, 112, 113, 114, 115, 116, 117, 118,\n",
    "                       119, 120, 121, 122, 32]\n",
    "    statement = df[\"statement\"]\n",
    "    clean_statement_list = [s for s in statement if ord(s) in good_characters]\n",
    "    return \"\".join(clean_statement_list)\n",
    "\n",
    "sentences_cia[\"cleaned_statement\"] = sentences_cia.apply(clean_statement, axis = 1)    "
   ]
  },
  {
   "cell_type": "code",
   "execution_count": 40,
   "metadata": {},
   "outputs": [],
   "source": [
    "# Now we need to combine the sentences and convert them to tokens.\n",
    "\n",
    "# The eventual goal is to count up how many times each term occurs.\n",
    "\n",
    "combined_statements = \" \".join(sentences_cia[\"cleaned_statement\"])\n"
   ]
  },
  {
   "cell_type": "code",
   "execution_count": 42,
   "metadata": {},
   "outputs": [],
   "source": [
    "statement_tokens = combined_statements.split(\" \")"
   ]
  },
  {
   "cell_type": "markdown",
   "metadata": {},
   "source": [
    "We want to count how many times each term occurs in our data, so we can find the most common items.\n",
    "\n",
    "The problem is that the most common words in the English language are ones that are relatively uninteresting to us right now -- words like **\"the\"**, **\"a\"**, and so on. These words are called stopwords - words that don't add much information to our analysis.\n",
    "\n",
    "It's common to filter out any words on a list of known **stopwords**. What we'll do here for the sake of simplicity is filter out any words less than five characters long. This should remove most stopwords."
   ]
  },
  {
   "cell_type": "code",
   "execution_count": 44,
   "metadata": {},
   "outputs": [],
   "source": [
    "filtered_tokens = [s for s in statement_tokens if len(s) > 4]"
   ]
  },
  {
   "cell_type": "code",
   "execution_count": 45,
   "metadata": {},
   "outputs": [],
   "source": [
    "from collections import Counter\n",
    "filtered_token_counts = Counter(filtered_tokens)"
   ]
  },
  {
   "cell_type": "code",
   "execution_count": 48,
   "metadata": {},
   "outputs": [
    {
     "data": {
      "text/plain": [
       "[('interrogation', 391),\n",
       " ('information', 375),\n",
       " ('REDACTED', 375),\n",
       " ('Zubaydah', 328)]"
      ]
     },
     "execution_count": 48,
     "metadata": {},
     "output_type": "execute_result"
    }
   ],
   "source": [
    "# We can use the most_common method of a Counter class to get the most common items\n",
    "# We pass in a number, which is the number of items we want to get\n",
    "\n",
    "common_tokens = filtered_token_counts.most_common(4)\n",
    "common_tokens"
   ]
  },
  {
   "cell_type": "code",
   "execution_count": 49,
   "metadata": {},
   "outputs": [],
   "source": [
    "# Let's write a function that computes the most common terms by year.\n",
    "\n",
    "def find_most_common_by_year(year, sentences_cia):\n",
    "    data =  sentences_cia[sentences_cia[\"year\"] == year]\n",
    "    combined_statement = \" \".join(data[\"cleaned_statement\"])\n",
    "    statement_split = combined_statement.split(\" \")\n",
    "    counter = Counter([s for s in statement_split if len(s) > 4])\n",
    "    return counter.most_common(2)"
   ]
  },
  {
   "cell_type": "code",
   "execution_count": 50,
   "metadata": {},
   "outputs": [],
   "source": [
    "common_2000 =  find_most_common_by_year(\"2000\", sentences_cia)\n",
    "common_2002 =  find_most_common_by_year(\"2002\", sentences_cia)\n",
    "common_2013 =  find_most_common_by_year(\"2013\", sentences_cia)"
   ]
  },
  {
   "cell_type": "code",
   "execution_count": null,
   "metadata": {},
   "outputs": [],
   "source": []
  }
 ],
 "metadata": {
  "kernelspec": {
   "display_name": "Python 3",
   "language": "python",
   "name": "python3"
  },
  "language_info": {
   "codemirror_mode": {
    "name": "ipython",
    "version": 3
   },
   "file_extension": ".py",
   "mimetype": "text/x-python",
   "name": "python",
   "nbconvert_exporter": "python",
   "pygments_lexer": "ipython3",
   "version": "3.7.3"
  }
 },
 "nbformat": 4,
 "nbformat_minor": 2
}
